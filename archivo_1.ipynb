{
 "cells": [
  {
   "cell_type": "code",
   "execution_count": 15,
   "id": "1d53be47",
   "metadata": {},
   "outputs": [
    {
     "name": "stdout",
     "output_type": "stream",
     "text": [
      "Hola, 'Mundo'!!!!!\n",
      "Esto \"también\" es una cadena de texto\n",
      "Python es genial\n",
      "Pyton-es-brutal\n",
      "Esto se impreme en la misma línea\n"
     ]
    }
   ],
   "source": [
    "print(\"Hola, 'Mundo'!!!!!\")\n",
    "print('Esto \"también\" es una cadena de texto')\n",
    "print(\"Python\", \"es\", \"genial\")\n",
    "print(\"Pyton\", \"es\",\"brutal\",sep=\"-\")\n",
    "print(\"Esto se impreme en\", end=\" \")\n",
    "print(\"la misma línea\") "
   ]
  },
  {
   "cell_type": "code",
   "execution_count": 20,
   "id": "26948778",
   "metadata": {},
   "outputs": [
    {
     "name": "stdout",
     "output_type": "stream",
     "text": [
      "float: \n",
      "<class 'float'>\n",
      "<class 'float'>\n",
      "<class 'float'>\n"
     ]
    }
   ],
   "source": [
    "# Tipos de datos\n",
    "type(10)\n",
    "print(\"float: \")\n",
    "print(type(3.14))\n",
    "print(type(1.0))\n",
    "print(type(1e3))\n"
   ]
  },
  {
   "cell_type": "code",
   "execution_count": 21,
   "id": "fd31c13d",
   "metadata": {},
   "outputs": [
    {
     "name": "stdout",
     "output_type": "stream",
     "text": [
      "complex\n",
      "<class 'complex'>\n"
     ]
    }
   ],
   "source": [
    "print(\"complex\")\n",
    "print(type(3 + 4j))"
   ]
  },
  {
   "cell_type": "code",
   "execution_count": 4,
   "id": "d1912df0",
   "metadata": {},
   "outputs": [
    {
     "name": "stdout",
     "output_type": "stream",
     "text": [
      "<class 'str'>\n",
      "<class 'int'>\n"
     ]
    }
   ],
   "source": [
    "my_name = \"albino\"\n",
    "my_name\n",
    "age = 32\n",
    "age\n",
    "age = age + 1\n",
    "age\n",
    "name = \"miducev\"\n",
    "print(type(name))\n",
    "name = 32\n",
    "print(type(name))"
   ]
  },
  {
   "cell_type": "code",
   "execution_count": 5,
   "id": "094a391d",
   "metadata": {},
   "outputs": [
    {
     "name": "stdout",
     "output_type": "stream",
     "text": [
      "Mi nombre es Alibaba y tengo 33 años\n"
     ]
    }
   ],
   "source": [
    "my_name = \"Alibaba\"\n",
    "age = 33\n",
    "print(f\"Mi nombre es {my_name} y tengo {age} años\")\n"
   ]
  },
  {
   "cell_type": "code",
   "execution_count": 6,
   "id": "717bd689",
   "metadata": {},
   "outputs": [
    {
     "name": "stdout",
     "output_type": "stream",
     "text": [
      "True\n",
      "32\n"
     ]
    }
   ],
   "source": [
    "is_user_logged_in: bool = True\n",
    "print(is_user_logged_in)\n",
    "\n",
    "is_user_logged_in = 32\n",
    "print(is_user_logged_in)"
   ]
  },
  {
   "cell_type": "code",
   "execution_count": null,
   "id": "58c763b6",
   "metadata": {},
   "outputs": [],
   "source": [
    "edad = 32\n",
    "if edad >= 18:\n",
    "    print(\"Eres mayor de edad\")"
   ]
  },
  {
   "cell_type": "code",
   "execution_count": 13,
   "id": "39ada02a",
   "metadata": {},
   "outputs": [
    {
     "name": "stdout",
     "output_type": "stream",
     "text": [
      "[3, 10, 2, 8, 99, 101]\n",
      "[2, 3, 8, 10, 99, 101]\n",
      "('manzana', 'banana', 'cereza', 'limón', 'naranja', 'pera')\n",
      "['banana', 'cereza', 'limón', 'manzana', 'naranja', 'pera']\n",
      "('Manzana', 'banana', 'cereza', 'limón', 'naranja', 'Pera')\n",
      "['banana', 'cereza', 'limón', 'Manzana', 'naranja', 'Pera']\n"
     ]
    }
   ],
   "source": [
    "numbers = [3, 10, 2, 8, 99, 101]\n",
    "numbers.sort()\n",
    "print(numbers)\n",
    "\n",
    "numbers = [3, 10, 2, 8, 99, 101]\n",
    "sorted_numbers = sorted(numbers)\n",
    "print(sorted_numbers)\n",
    "\n",
    "frutas = (\"manzana\", \"banana\", \"cereza\", \"limón\", \"naranja\",\"pera\")\n",
    "print(frutas)\n",
    "frutas_ordenadas = sorted(frutas)\n",
    "print(frutas_ordenadas)\n",
    "frutas = (\"Manzana\", \"banana\", \"cereza\", \"limón\", \"naranja\",\"Pera\")\n",
    "print(frutas)\n",
    "frutas_ordenadas = sorted(frutas, key=str.lower)\n",
    "print(frutas_ordenadas)"
   ]
  },
  {
   "cell_type": "code",
   "execution_count": null,
   "id": "e75e8943",
   "metadata": {},
   "outputs": [],
   "source": []
  },
  {
   "cell_type": "code",
   "execution_count": 20,
   "id": "0622506f",
   "metadata": {},
   "outputs": [
    {
     "name": "stdout",
     "output_type": "stream",
     "text": [
      "2\n",
      "True\n"
     ]
    }
   ],
   "source": [
    "animals = ['🐣', '🐶', '🐱', '🦊', '🐻', '🐼' , '🐨', '🐶']\n",
    "print(animals.count('🐶'))\n",
    "print('🐼' in animals)"
   ]
  },
  {
   "cell_type": "code",
   "execution_count": 21,
   "id": "b84a83ee",
   "metadata": {},
   "outputs": [
    {
     "name": "stdout",
     "output_type": "stream",
     "text": [
      "2\n",
      "True\n"
     ]
    }
   ],
   "source": [
    "animals = ['🐣', '🐶', '🐱', '🦊', '🐻', '🐼' , '🐨', '🐶']\n",
    "print(animals.count('🐶'))\n",
    "print('🐼' in animals)"
   ]
  }
 ],
 "metadata": {
  "kernelspec": {
   "display_name": "Python 3",
   "language": "python",
   "name": "python3"
  },
  "language_info": {
   "codemirror_mode": {
    "name": "ipython",
    "version": 3
   },
   "file_extension": ".py",
   "mimetype": "text/x-python",
   "name": "python",
   "nbconvert_exporter": "python",
   "pygments_lexer": "ipython3",
   "version": "3.13.7"
  }
 },
 "nbformat": 4,
 "nbformat_minor": 5
}
